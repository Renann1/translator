{
  "nbformat": 4,
  "nbformat_minor": 0,
  "metadata": {
    "colab": {
      "name": "translator.ipynb",
      "provenance": []
    },
    "kernelspec": {
      "name": "python3",
      "display_name": "Python 3"
    }
  },
  "cells": [
    {
      "cell_type": "code",
      "metadata": {
        "id": "8lzFHqMuAgwf"
      },
      "source": [
        "pip install translate"
      ],
      "execution_count": null,
      "outputs": []
    },
    {
      "cell_type": "code",
      "metadata": {
        "colab": {
          "base_uri": "https://localhost:8080/"
        },
        "id": "uZI8BS7UAtBQ",
        "outputId": "b2ebc3cd-1ff8-4bcf-a694-630cec9dfda4"
      },
      "source": [
        "from translate import Translator\r\n",
        "s = Translator(from_lang=\"english\", to_lang = \"portuguese\")\r\n",
        "\r\n",
        "res = s.translate(\"go\")\r\n",
        "print(res)"
      ],
      "execution_count": 10,
      "outputs": [
        {
          "output_type": "stream",
          "text": [
            "vou (para)\n"
          ],
          "name": "stdout"
        }
      ]
    }
  ]
}